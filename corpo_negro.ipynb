{
 "cells": [
  {
   "cell_type": "code",
   "execution_count": 23,
   "metadata": {
    "executionInfo": {
     "elapsed": 8,
     "status": "ok",
     "timestamp": 1720531347367,
     "user": {
      "displayName": "Yuri Bonfim",
      "userId": "13602840795284945009"
     },
     "user_tz": 180
    },
    "id": "wWTsH5lrnSQn"
   },
   "outputs": [],
   "source": [
    "import math"
   ]
  },
  {
   "cell_type": "markdown",
   "metadata": {
    "id": "yF-Ho3Ed0MFt"
   },
   "source": [
    "![Captura de tela 2024-04-21 193417.png](data:image/png;base64,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)"
   ]
  },
  {
   "cell_type": "code",
   "execution_count": 24,
   "metadata": {
    "colab": {
     "base_uri": "https://localhost:8080/"
    },
    "executionInfo": {
     "elapsed": 1007,
     "status": "ok",
     "timestamp": 1720531351396,
     "user": {
      "displayName": "Yuri Bonfim",
      "userId": "13602840795284945009"
     },
     "user_tz": 180
    },
    "id": "zd7MzXM8pyTC",
    "outputId": "12d7a1a1-51fa-448b-87dd-7bca375ac459"
   },
   "outputs": [
    {
     "name": "stdout",
     "output_type": "stream",
     "text": [
      "0.67\n",
      "22.3\n",
      "0.0048200000000000005\n",
      "6.76e-07\n"
     ]
    }
   ],
   "source": [
    "R_tac = 0.67\n",
    "T_ac = 22.30\n",
    "a_t = 4.82 * (10 ** -3)\n",
    "b_t = 6.76 * (10 ** -7)\n",
    "print(R_tac)\n",
    "print(T_ac)\n",
    "print(a_t)\n",
    "print(b_t)\n",
    "\n"
   ]
  },
  {
   "cell_type": "code",
   "execution_count": 25,
   "metadata": {
    "colab": {
     "base_uri": "https://localhost:8080/"
    },
    "executionInfo": {
     "elapsed": 5,
     "status": "ok",
     "timestamp": 1720531354229,
     "user": {
      "displayName": "Yuri Bonfim",
      "userId": "13602840795284945009"
     },
     "user_tz": 180
    },
    "id": "NI48Htlenbdk",
    "outputId": "1b491628-cbe2-4a9f-d288-66fc1dc2d6dd"
   },
   "outputs": [
    {
     "name": "stdout",
     "output_type": "stream",
     "text": [
      "0.604790208509177\n"
     ]
    }
   ],
   "source": [
    "R_O =  R_tac / (1 + a_t*T_ac + b_t*(T_ac**2))\n",
    "\n",
    "print(R_O)"
   ]
  },
  {
   "cell_type": "markdown",
   "metadata": {
    "id": "9GhNvn8Vzske"
   },
   "source": [
    "![Captura de tela 2024-04-21 192016.png](data:image/png;base64,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)"
   ]
  },
  {
   "cell_type": "markdown",
   "metadata": {
    "id": "2GVEkOhDyLm3"
   },
   "source": [
    "#roxo"
   ]
  },
  {
   "cell_type": "code",
   "execution_count": 26,
   "metadata": {
    "colab": {
     "base_uri": "https://localhost:8080/"
    },
    "executionInfo": {
     "elapsed": 339,
     "status": "ok",
     "timestamp": 1720531358828,
     "user": {
      "displayName": "Yuri Bonfim",
      "userId": "13602840795284945009"
     },
     "user_tz": 180
    },
    "id": "jadJggrrx8XW",
    "outputId": "e25a8a62-a5e6-41dc-9624-b0a1d0d5093b"
   },
   "outputs": [
    {
     "name": "stdout",
     "output_type": "stream",
     "text": [
      "Resultado de T para V = 12 e i = 3.17 é T: 1234.4668284353497\n",
      "Resultado de T para V = 10.5 e i = 2.95 é T: 1172.9432957684053\n",
      "Resultado de T para V = 8.9 e i = 2.8 é T: 1067.4080250380557\n",
      "Resultado de T para V = 7.4 e i = 2.54 é T: 992.3692028441493\n",
      "Resultado de T para V = 6 e i = 2.27 é T: 914.5308523872861\n",
      "Resultado de T para V = 4.4 e i = 1.96 é T: 797.1029026093041\n",
      "Resultado de T para V = 2.9 e i = 1.63 é T: 655.3493850343123\n"
     ]
    }
   ],
   "source": [
    "def calcular_T(V, i, R_o, a, b):\n",
    "    R_t = V / i\n",
    "    return 273 + (1 / (2 * b)) * (math.sqrt(a**2 + 4 * b * ((R_t / R_o) - 1)) - a)\n",
    "\n",
    "# Defina os valores das constantes\n",
    "R_o = R_O # valor de R_o\n",
    "a = a_t   # valor de a\n",
    "b =  b_t    # valor de b\n",
    "\n",
    "# Defina as listas de V_roxo e i_roxo\n",
    "V_roxo = [12, 10.5, 8.9, 7.4, 6, 4.4, 2.9]\n",
    "i_roxo = [3.17, 2.95, 2.8, 2.54, 2.27, 1.96, 1.63]\n",
    "\n",
    "# Calcular a temperatura para cada par de valores de V_roxo e i_roxo\n",
    "for V, i in zip(V_roxo, i_roxo):\n",
    "    resultado = calcular_T(V, i, R_o, a, b)\n",
    "    print(\"Resultado de T para V =\", V, \"e i =\", i, \"é T:\", resultado)\n"
   ]
  },
  {
   "cell_type": "markdown",
   "metadata": {
    "id": "mddE-NTU0voG"
   },
   "source": [
    "vermelho"
   ]
  },
  {
   "cell_type": "code",
   "execution_count": 27,
   "metadata": {
    "executionInfo": {
     "elapsed": 335,
     "status": "ok",
     "timestamp": 1720531362673,
     "user": {
      "displayName": "Yuri Bonfim",
      "userId": "13602840795284945009"
     },
     "user_tz": 180
    },
    "id": "NYbEn-mW01mb"
   },
   "outputs": [],
   "source": [
    "V_vermelho = [12, 10.5, 9, 7.5, 6, 4.4, 3]\n",
    "i_vermelho = [3.27, 3.05, 2.81, 2.55, 2.28, 1.98, 1.65]\n"
   ]
  },
  {
   "cell_type": "code",
   "execution_count": 28,
   "metadata": {
    "colab": {
     "base_uri": "https://localhost:8080/"
    },
    "executionInfo": {
     "elapsed": 308,
     "status": "ok",
     "timestamp": 1720531365650,
     "user": {
      "displayName": "Yuri Bonfim",
      "userId": "13602840795284945009"
     },
     "user_tz": 180
    },
    "id": "9bMd9mXW0uN7",
    "outputId": "a81db466-6c9a-4d23-d540-10e16c0463ac"
   },
   "outputs": [
    {
     "name": "stdout",
     "output_type": "stream",
     "text": [
      "1203.0810300164517 ,\n",
      "1140.864036275123 ,\n",
      "1074.212778541787 ,\n",
      "1000.2945772258902 ,\n",
      "911.159144476661 ,\n",
      "790.3155082996855 ,\n",
      "667.4263312767528 ,\n"
     ]
    }
   ],
   "source": [
    "for V, i in zip(V_vermelho, i_vermelho):\n",
    "    resultado = calcular_T(V, i, R_o, a, b)\n",
    "    #print(\"Resultado de T para V =\", V, \"e i =\", i, \"é T:\", resultado)\n",
    "    print(resultado,',')\n"
   ]
  },
  {
   "cell_type": "markdown",
   "metadata": {
    "id": "2iJAVeCa1VBr"
   },
   "source": [
    "verde"
   ]
  },
  {
   "cell_type": "code",
   "execution_count": 29,
   "metadata": {
    "executionInfo": {
     "elapsed": 370,
     "status": "ok",
     "timestamp": 1720531369116,
     "user": {
      "displayName": "Yuri Bonfim",
      "userId": "13602840795284945009"
     },
     "user_tz": 180
    },
    "id": "YBO-YkQU1gWc"
   },
   "outputs": [],
   "source": [
    "V_verde = [11.9, 10.5, 9, 7.5, 6, 4.4, 3]\n",
    "i_verde = [3.27, 3.05, 2.82, 2.56, 2.29, 1.98, 1.66]"
   ]
  },
  {
   "cell_type": "code",
   "execution_count": 30,
   "metadata": {
    "colab": {
     "base_uri": "https://localhost:8080/"
    },
    "executionInfo": {
     "elapsed": 343,
     "status": "ok",
     "timestamp": 1720531370915,
     "user": {
      "displayName": "Yuri Bonfim",
      "userId": "13602840795284945009"
     },
     "user_tz": 180
    },
    "id": "C9q07HrQ1806",
    "outputId": "fe11fbcb-be74-4494-c7b5-2a5c9480ea42"
   },
   "outputs": [
    {
     "name": "stdout",
     "output_type": "stream",
     "text": [
      "1194.7532896432292 ,\n",
      "1140.864036275123 ,\n",
      "1071.030411928571 ,\n",
      "997.0199123003634 ,\n",
      "907.8142123271108 ,\n",
      "790.3155082996855 ,\n",
      "664.0418553615477 ,\n"
     ]
    }
   ],
   "source": [
    "for V, i in zip(V_verde, i_verde):\n",
    "    resultado = calcular_T(V, i, R_o, a, b)\n",
    "    #print(\"Resultado de T para V =\", V, \"e i =\", i, \"é T:\", resultado)\n",
    "    print(resultado,',')\n"
   ]
  }
 ],
 "metadata": {
  "colab": {
   "provenance": []
  },
  "kernelspec": {
   "display_name": "Python 3",
   "name": "python3"
  },
  "language_info": {
   "codemirror_mode": {
    "name": "ipython",
    "version": 3
   },
   "file_extension": ".py",
   "mimetype": "text/x-python",
   "name": "python",
   "nbconvert_exporter": "python",
   "pygments_lexer": "ipython3",
   "version": "3.12.10"
  }
 },
 "nbformat": 4,
 "nbformat_minor": 0
}
